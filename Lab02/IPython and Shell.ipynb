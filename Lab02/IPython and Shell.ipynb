{
 "cells": [
  {
   "cell_type": "markdown",
   "metadata": {},
   "source": [
    "# Ipython and Shell\n",
    "https://jakevdp.github.io/PythonDataScienceHandbook/01.05-ipython-and-shell-commands.html"
   ]
  },
  {
   "cell_type": "code",
   "execution_count": 13,
   "metadata": {
    "collapsed": false
   },
   "outputs": [
    {
     "name": "stdout",
     "output_type": "stream",
     "text": [
      "\u001b[34m$RECYCLE.BIN\u001b[m\u001b[m                        \u001b[34mJobs\u001b[m\u001b[m\r\n",
      "Bulb final bill.pdf                 Own Sourced Proposal_completed.docx\r\n",
      "\u001b[34mCode\u001b[m\u001b[m                                \u001b[34mPhotos\u001b[m\u001b[m\r\n",
      "\u001b[34mEPC\u001b[m\u001b[m                                 Question & Answer Booklet.pdf\r\n",
      "IPython and Shell.ipynb             \u001b[34mStorage\u001b[m\u001b[m\r\n",
      "InvitationLetterZhao.pdf            Thumbs.db\r\n"
     ]
    }
   ],
   "source": [
    "!ls"
   ]
  },
  {
   "cell_type": "code",
   "execution_count": 11,
   "metadata": {
    "collapsed": false
   },
   "outputs": [
    {
     "name": "stdout",
     "output_type": "stream",
     "text": [
      "/Users/qszhao/Desktop\n"
     ]
    }
   ],
   "source": [
    "%cd .."
   ]
  },
  {
   "cell_type": "code",
   "execution_count": 12,
   "metadata": {
    "collapsed": false
   },
   "outputs": [
    {
     "name": "stdout",
     "output_type": "stream",
     "text": [
      "/Users/qszhao/Desktop\r\n"
     ]
    }
   ],
   "source": [
    "!pwd"
   ]
  },
  {
   "cell_type": "code",
   "execution_count": null,
   "metadata": {
    "collapsed": true
   },
   "outputs": [],
   "source": []
  }
 ],
 "metadata": {
  "kernelspec": {
   "display_name": "Python 3",
   "language": "python",
   "name": "python3"
  },
  "language_info": {
   "codemirror_mode": {
    "name": "ipython",
    "version": 3
   },
   "file_extension": ".py",
   "mimetype": "text/x-python",
   "name": "python",
   "nbconvert_exporter": "python",
   "pygments_lexer": "ipython3",
   "version": "3.6.8"
  }
 },
 "nbformat": 4,
 "nbformat_minor": 2
}
